{
 "cells": [
  {
   "cell_type": "markdown",
   "id": "17d1280e-954a-4d9d-ba84-e1c0e1f57301",
   "metadata": {},
   "source": [
    "# Importing of packages"
   ]
  },
  {
   "cell_type": "code",
   "execution_count": 1,
   "id": "1e58fc83-7f8f-4983-b77b-f723a22dabb1",
   "metadata": {},
   "outputs": [],
   "source": [
    "import sklearn\n",
    "from sklearn.datasets import load_breast_cancer\n",
    "import pandas as pd"
   ]
  },
  {
   "cell_type": "markdown",
   "id": "b4cb3382-c265-4229-98bf-31e8ce8c64a8",
   "metadata": {},
   "source": [
    "## Load breast cancer"
   ]
  },
  {
   "cell_type": "code",
   "execution_count": 3,
   "id": "ebabc44a-33bb-4a6d-8592-32524245a0e5",
   "metadata": {},
   "outputs": [],
   "source": [
    "cancer = load_breast_cancer()"
   ]
  },
  {
   "cell_type": "markdown",
   "id": "c8d5a14f-f5cd-4b9e-9139-c484351fe39d",
   "metadata": {},
   "source": [
    "## Create a DataFrame from the dataset"
   ]
  },
  {
   "cell_type": "code",
   "execution_count": 4,
   "id": "d4725fd0-ff31-4ff7-9f82-db41a65922ac",
   "metadata": {},
   "outputs": [],
   "source": [
    "df = pd.DataFrame(cancer.data, columns=cancer.feature_names)\n",
    "df['target'] = cancer.target"
   ]
  },
  {
   "cell_type": "markdown",
   "id": "de88d8c4-5eb9-4e09-b22f-01cd12cc4adc",
   "metadata": {},
   "source": [
    "## Display the first few rows of the DataFrame"
   ]
  },
  {
   "cell_type": "code",
   "execution_count": null,
   "id": "ffa2f067-24ec-4d19-bbbc-cf5b348e812a",
   "metadata": {},
   "outputs": [],
   "source": [
    "df.head()"
   ]
  }
 ],
 "metadata": {
  "kernelspec": {
   "display_name": "Python 3 (ipykernel)",
   "language": "python",
   "name": "python3"
  },
  "language_info": {
   "codemirror_mode": {
    "name": "ipython",
    "version": 3
   },
   "file_extension": ".py",
   "mimetype": "text/x-python",
   "name": "python",
   "nbconvert_exporter": "python",
   "pygments_lexer": "ipython3",
   "version": "3.10.12"
  }
 },
 "nbformat": 4,
 "nbformat_minor": 5
}
