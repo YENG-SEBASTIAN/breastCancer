{
 "cells": [
  {
   "cell_type": "markdown",
   "id": "17d1280e-954a-4d9d-ba84-e1c0e1f57301",
   "metadata": {},
   "source": [
    "# Importing of packages"
   ]
  },
  {
   "cell_type": "code",
   "execution_count": 9,
   "id": "a3514264-fbff-46d6-8086-7d7e1f20cb05",
   "metadata": {},
   "outputs": [
    {
     "name": "stdout",
     "output_type": "stream",
     "text": [
      "version 3.10.12 (main, Nov 20 2023, 15:14:05) [GCC 11.4.0]\n",
      "executable /usr/bin/python3\n",
      "Path ['/usr/lib/python310.zip', '/usr/lib/python3.10', '/usr/lib/python3.10/lib-dynload', '', '/usr/local/lib/python3.10/dist-packages', '/usr/lib/python3/dist-packages']\n"
     ]
    }
   ],
   "source": [
    "import sys\n",
    "\n",
    "\n",
    "\n",
    "\n",
    "\n",
    "\n",
    "\n",
    "\n",
    "print(\"version\", sys.version)\n",
    "print(\"executable\", sys.executable)\n",
    "print(\"Path\", sys.path)"
   ]
  }
 ],
 "metadata": {
  "kernelspec": {
   "display_name": "Python 3 (ipykernel)",
   "language": "python",
   "name": "python3"
  },
  "language_info": {
   "codemirror_mode": {
    "name": "ipython",
    "version": 3
   },
   "file_extension": ".py",
   "mimetype": "text/x-python",
   "name": "python",
   "nbconvert_exporter": "python",
   "pygments_lexer": "ipython3",
   "version": "3.10.12"
  }
 },
 "nbformat": 4,
 "nbformat_minor": 5
}
